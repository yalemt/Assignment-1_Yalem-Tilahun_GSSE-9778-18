{
  "nbformat": 4,
  "nbformat_minor": 0,
  "metadata": {
    "colab": {
      "provenance": []
    },
    "kernelspec": {
      "name": "python3",
      "display_name": "Python 3"
    },
    "language_info": {
      "name": "python"
    }
  },
  "cells": [
    {
      "cell_type": "code",
      "execution_count": 1,
      "metadata": {
        "colab": {
          "base_uri": "https://localhost:8080/"
        },
        "id": "OEhPObMgCHVn",
        "outputId": "398b5b43-2f4f-4bed-e479-7492b25d3552"
      },
      "outputs": [
        {
          "output_type": "stream",
          "name": "stdout",
          "text": [
            "Sample data record 1\n",
            "Sample data record 2\n",
            "Sample data record 3\n",
            "Sample data record 4\n",
            "Sample data record 5\n"
          ]
        }
      ],
      "source": [
        "for i in range(5):\n",
        "    print(f\"Sample data record {i+1}\")"
      ]
    },
    {
      "cell_type": "markdown",
      "source": [
        "# Statistical computing Assignment 1 - Git & GitHub  \n",
        "\n",
        "**Name:** Yalem Tilahun  \n",
        "\n",
        " # Description  \n",
        "This Colab notebook demonstrates basic Git & GitHub usage for the Statistical Computing course.  \n",
        "\n",
        "## Contents  \n",
        "- `sample_data.py` (script)  \n",
        "- `README.md` (section above)\n",
        "\n",
        "## Tools Used  \n",
        "- Google Colab  \n",
        "- GitHub"
      ],
      "metadata": {
        "id": "1U1wjzZqCOyd"
      }
    },
    {
      "cell_type": "code",
      "source": [
        "\"First commit - added sample_data.ipynb\""
      ],
      "metadata": {
        "colab": {
          "base_uri": "https://localhost:8080/",
          "height": 35
        },
        "id": "ucb27MCZEezH",
        "outputId": "9069e431-d6d0-4ffc-851a-0950ceb1f7f7"
      },
      "execution_count": 3,
      "outputs": [
        {
          "output_type": "execute_result",
          "data": {
            "text/plain": [
              "'First commit - added sample_data.ipynb'"
            ],
            "application/vnd.google.colaboratory.intrinsic+json": {
              "type": "string"
            }
          },
          "metadata": {},
          "execution_count": 3
        }
      ]
    },
    {
      "cell_type": "code",
      "source": [
        "print(\"This is second commit!\")"
      ],
      "metadata": {
        "colab": {
          "base_uri": "https://localhost:8080/"
        },
        "id": "vE2j_4Ig8jN0",
        "outputId": "b5da6fa6-9f2e-41f9-ba42-80f65b773e34"
      },
      "execution_count": 2,
      "outputs": [
        {
          "output_type": "stream",
          "name": "stdout",
          "text": [
            "This is second commit!\n"
          ]
        }
      ]
    }
  ]
}